{
 "cells": [
  {
   "cell_type": "code",
   "execution_count": null,
   "metadata": {},
   "outputs": [],
   "source": [
    "\"\"\"阿里☁️ Redis 往 AWS 的离线迁移脚本\n",
    "通过 RDB 备份文件进行迁移。\n",
    "先在阿里☁️形成手工备份，下载该备份文件并上传到S3，基于这个备份文件生成新的 Redis 实例。\n",
    "目前仅支持主从配置。\n",
    "\"\"\""
   ]
  },
  {
   "cell_type": "code",
   "execution_count": null,
   "metadata": {},
   "outputs": [],
   "source": [
    "!pip install redis\n",
    "!pip install certifi\n",
    "!pip install aliyun-python-sdk-r-kvstore"
   ]
  },
  {
   "cell_type": "code",
   "execution_count": 1,
   "metadata": {},
   "outputs": [],
   "source": [
    "REGION = 'ap-northeast-1'\n",
    "PASSWORD = 'AliyunMigration#passw0rd'\n",
    "MY_IP = ''\n",
    "BUCKET_NAME = ''"
   ]
  },
  {
   "cell_type": "code",
   "execution_count": 2,
   "metadata": {},
   "outputs": [],
   "source": [
    "import redis\n",
    "import certifi\n",
    "from datetime import datetime,timedelta\n",
    "from time import sleep,strftime\n",
    "import boto3\n",
    "import json\n",
    "import requests\n",
    "\n",
    "from aliyunsdkcore.client import AcsClient\n",
    "from aliyunsdkcore.acs_exception.exceptions import ClientException\n",
    "from aliyunsdkcore.acs_exception.exceptions import ServerException\n",
    "from aliyunsdkr_kvstore.request.v20150101.CreateBackupRequest import CreateBackupRequest\n",
    "from aliyunsdkr_kvstore.request.v20150101.DescribeInstancesRequest import DescribeInstancesRequest\n",
    "from aliyunsdkr_kvstore.request.v20150101.DescribeInstanceAttributeRequest import DescribeInstanceAttributeRequest\n",
    "from aliyunsdkr_kvstore.request.v20150101.ModifySecurityIpsRequest import ModifySecurityIpsRequest\n",
    "from aliyunsdkr_kvstore.request.v20150101.AllocateInstancePublicConnectionRequest import AllocateInstancePublicConnectionRequest\n",
    "from aliyunsdkr_kvstore.request.v20150101.CreateBackupRequest import CreateBackupRequest\n",
    "from aliyunsdkr_kvstore.request.v20150101.DescribeBackupTasksRequest import DescribeBackupTasksRequest\n",
    "from aliyunsdkr_kvstore.request.v20150101.DescribeBackupsRequest import DescribeBackupsRequest\n",
    "from aliyunsdkr_kvstore.request.v20150101.DeleteInstanceRequest import DeleteInstanceRequest"
   ]
  },
  {
   "cell_type": "code",
   "execution_count": 3,
   "metadata": {},
   "outputs": [],
   "source": [
    "sess = boto3.Session(region_name=REGION)"
   ]
  },
  {
   "cell_type": "code",
   "execution_count": 4,
   "metadata": {},
   "outputs": [],
   "source": [
    "\"\"\" 阿里云 Accesskey_Id 和 Accesskey_secret 请先保存在 AWS Systems Manager 的 Parameter Store 中\n",
    "名称为:\n",
    "    ali_ak_pair\n",
    "值格式为:\n",
    "    {\"accesskey_id\":\"foo\", \"accesskey_secret\":\"bar\"}\n",
    "权限：\n",
    "    确认拥有该Key的用户具有上面 import 里列出的 Redis 权限，去掉 Request 尾缀就是操作名称\n",
    "\"\"\"\n",
    "ssm = sess.client('ssm')\n",
    "response = ssm.get_parameter(\n",
    "    Name='ali_ak_pair',\n",
    "    WithDecryption=True\n",
    ")\n",
    "ak_pair = json.loads(response.get('Parameter').get('Value'))\n",
    "ak = ak_pair.get('accesskey_id')\n",
    "sk = ak_pair.get('accesskey_secret')"
   ]
  },
  {
   "cell_type": "code",
   "execution_count": 35,
   "metadata": {},
   "outputs": [
    {
     "data": {
      "text/plain": [
       "'r-6wes3ssx9x5r8jtm70'"
      ]
     },
     "execution_count": 35,
     "metadata": {},
     "output_type": "execute_result"
    }
   ],
   "source": [
    "# 取得阿里云当前区域所有 Redis 实例 ID\n",
    "ali_redis_client = AcsClient(ak, sk, REGION)\n",
    "\n",
    "request = DescribeInstancesRequest()\n",
    "request.set_accept_format('json')\n",
    "\n",
    "ali_instances = json.loads(ali_redis_client.do_action_with_exception(request))\n",
    "ali_instance_ids = [i.get('InstanceId') for i in ali_instances.get('Instances').get('KVStoreInstance')]\n",
    "\n",
    "# 这里仅取一个实例为例\n",
    "ali_instance_id = ali_instance_ids.pop()\n",
    "ali_instance_id"
   ]
  },
  {
   "cell_type": "code",
   "execution_count": 38,
   "metadata": {},
   "outputs": [
    {
     "data": {
      "text/plain": [
       "{'Instances': {'DBInstanceAttribute': [{'Connections': 10000,\n",
       "    'ResourceGroupId': 'rg-acfmvopraahm63q',\n",
       "    'Config': '{\"EvictionPolicy\":\"volatile-lru\",\"hash-max-ziplist-entries\":512,\"zset-max-ziplist-entries\":128,\"zset-max-ziplist-value\":64,\"set-max-intset-entries\":512,\"hash-max-ziplist-value\":64}',\n",
       "    'Port': 6379,\n",
       "    'HasRenewChangeOrder': 'false',\n",
       "    'ConnectionDomain': 'r-6wes3ssx9x5r8jtm70.redis.japan.rds.aliyuncs.com',\n",
       "    'MaintainEndTime': '22:00Z',\n",
       "    'Capacity': 1024,\n",
       "    'QPS': 100000,\n",
       "    'PrivateIp': '172.16.101.77',\n",
       "    'SecurityIPList': '127.0.0.1',\n",
       "    'InstanceStatus': 'Normal',\n",
       "    'NetworkType': 'VPC',\n",
       "    'Bandwidth': 10,\n",
       "    'PackageType': 'standard',\n",
       "    'InstanceReleaseProtection': False,\n",
       "    'InstanceType': 'Redis',\n",
       "    'AvailabilityValue': '100.0%',\n",
       "    'Engine': 'Redis',\n",
       "    'MaintainStartTime': '18:00Z',\n",
       "    'Tags': {'Tag': []},\n",
       "    'ArchitectureType': 'standard',\n",
       "    'EngineVersion': '4.0',\n",
       "    'ZoneId': 'ap-northeast-1a',\n",
       "    'InstanceId': 'r-6wes3ssx9x5r8jtm70',\n",
       "    'VSwitchId': 'vsw-6wejongu53d2pybh27t3l',\n",
       "    'CreateTime': '2021-01-17T19:58:12Z',\n",
       "    'InstanceClass': 'redis.master.small.default',\n",
       "    'AuditLogRetention': '0',\n",
       "    'IsRds': True,\n",
       "    'ReplicationMode': 'master-slave',\n",
       "    'InstanceName': '',\n",
       "    'Storage': '15',\n",
       "    'VpcId': 'vpc-6we679dwbbauupaykw4pu',\n",
       "    'ChargeType': 'PostPaid',\n",
       "    'VpcAuthMode': 'Open',\n",
       "    'NodeType': 'double',\n",
       "    'VpcCloudInstanceId': 'r-6wes3ssx9x5r8jtm70',\n",
       "    'RegionId': 'ap-northeast-1'}]},\n",
       " 'RequestId': '1F52A125-AB8A-4E0F-96A6-D68248439DC4'}"
      ]
     },
     "execution_count": 38,
     "metadata": {},
     "output_type": "execute_result"
    }
   ],
   "source": [
    "# 查看实例详情\n",
    "request = DescribeInstanceAttributeRequest()\n",
    "request.set_accept_format('json')\n",
    "\n",
    "request.set_InstanceId(ali_instance_id)\n",
    "\n",
    "response = ali_redis_client.do_action_with_exception(request)\n",
    "json.loads(response.decode())"
   ]
  },
  {
   "cell_type": "code",
   "execution_count": 7,
   "metadata": {},
   "outputs": [],
   "source": [
    "# 不查看对比 Redis 内容的话，不需运行\n",
    "# 生成公网地址，域名前缀是 aws-migration- + 实例ID\n",
    "# 阿里☁️公网地址会生成额外的 Connection 属性对，通过判断数量来决定是否已有公网地址\n",
    "if len(json.loads(response.decode()).get('Instances').get('DBInstanceAttribute'))<2:\n",
    "    port = json.loads(response.decode()).get('Instances').get('DBInstanceAttribute')[0].get('Port')\n",
    "    request = AllocateInstancePublicConnectionRequest()\n",
    "    request.set_accept_format('json')\n",
    "\n",
    "    request.set_ConnectionStringPrefix('aws-migration-'+ali_instance_id)\n",
    "    request.set_Port(port)\n",
    "    request.set_InstanceId(ali_instance_id)\n",
    "\n",
    "    response = ali_redis_client.do_action_with_exception(request)"
   ]
  },
  {
   "cell_type": "code",
   "execution_count": 8,
   "metadata": {},
   "outputs": [],
   "source": [
    "# 不查看对比 Redis 内容的话，不需运行\n",
    "# 等待实例状态正常后修改白名单，添加本地到 aws 白名单组\n",
    "status = 'Unknown'\n",
    "while status != 'Normal': \n",
    "    request = DescribeInstanceAttributeRequest()\n",
    "    request.set_accept_format('json')\n",
    "\n",
    "    request.set_InstanceId(ali_instance_id)\n",
    "\n",
    "    response = ali_redis_client.do_action_with_exception(request)\n",
    "    status = json.loads(response.decode()).get('Instances').get('DBInstanceAttribute')[0].get('InstanceStatus')\n",
    "    sleep(3)\n",
    "\n",
    "request = ModifySecurityIpsRequest()\n",
    "request.set_accept_format('json')\n",
    "\n",
    "request.set_SecurityIps(MY_IP)\n",
    "request.set_InstanceId(ali_instance_id)\n",
    "request.set_SecurityIpGroupName(\"aws\")\n",
    "request.set_ModifyMode(\"append\")\n",
    "\n",
    "response = ali_redis_client.do_action_with_exception(request)"
   ]
  },
  {
   "cell_type": "code",
   "execution_count": 9,
   "metadata": {},
   "outputs": [
    {
     "data": {
      "text/plain": [
       "(0, [])"
      ]
     },
     "execution_count": 9,
     "metadata": {},
     "output_type": "execute_result"
    }
   ],
   "source": [
    "# 不查看对比 Redis 内容的话，不需运行\n",
    "# 查看 Redis 内容\n",
    "request = DescribeInstanceAttributeRequest()\n",
    "request.set_accept_format('json')\n",
    "\n",
    "request.set_InstanceId(ali_instance_id)\n",
    "\n",
    "response = ali_redis_client.do_action_with_exception(request)\n",
    "\n",
    "ali_url = json.loads(response.decode()).get('Instances').get('DBInstanceAttribute')[1].get('ConnectionDomain')\n",
    "port = json.loads(response.decode()).get('Instances').get('DBInstanceAttribute')[1].get('Port')\n",
    "ali_redis = redis.Redis(host=ali_url, port=port, db=0, password=PASSWORD)\n",
    "ali_redis.scan()"
   ]
  },
  {
   "cell_type": "code",
   "execution_count": 10,
   "metadata": {},
   "outputs": [
    {
     "name": "stdout",
     "output_type": "stream",
     "text": [
      "3756901043\n"
     ]
    },
    {
     "data": {
      "text/plain": [
       "(28,\n",
       " [b'trip data/fhv_tripdata_2015-02.csv',\n",
       "  b'trip data/fhv_tripdata_2015-04.csv',\n",
       "  b'trip data/fhv_tripdata_2016-05.csv',\n",
       "  b'trip data/green_tripdata_2013-08.csv',\n",
       "  b'trip data/fhv_tripdata_2015-08.csv',\n",
       "  b'trip data/fhv_tripdata_2015-06.csv',\n",
       "  b'trip data/fhv_tripdata_2016-02.csv',\n",
       "  b'trip data/fhv_tripdata_2019-03.csv',\n",
       "  b'trip data/fhv_tripdata_2020-04.csv',\n",
       "  b'trip data/fhv_tripdata_2019-02.csv'])"
      ]
     },
     "execution_count": 10,
     "metadata": {},
     "output_type": "execute_result"
    }
   ],
   "source": [
    "# 仅用于测试\n",
    "# 用 S3 中的 CSV 文件填充 Redis，文件小于 500MB，总容量小于 3.5GB\n",
    "s3 = sess.resource('s3')\n",
    "bucket = s3.Bucket(BUCKET_NAME)\n",
    "total_size = 0\n",
    "for obj in bucket.objects.all():\n",
    "    if obj.key.startswith('trip data') \\\n",
    "    and obj.key.endswith('csv') \\\n",
    "    and obj.size < 500*1024*1024 \\\n",
    "    and obj.size+total_size < 3.5*1024*1024*1024:\n",
    "        response = obj.get()\n",
    "        ali_redis.set(obj.key, response.get('Body').read())\n",
    "        total_size += obj.size\n",
    "print(total_size)\n",
    "ali_redis.scan()\n",
    "# r.flushall()"
   ]
  },
  {
   "cell_type": "code",
   "execution_count": 23,
   "metadata": {},
   "outputs": [],
   "source": [
    "start = datetime.now()"
   ]
  },
  {
   "cell_type": "code",
   "execution_count": 39,
   "metadata": {},
   "outputs": [],
   "source": [
    "# 创建手工备份\n",
    "request = CreateBackupRequest()\n",
    "request.set_accept_format('json')\n",
    "\n",
    "request.set_InstanceId(ali_instance_id)\n",
    "\n",
    "response = ali_redis_client.do_action_with_exception(request)\n",
    "\n",
    "backup_job_id = json.loads(response.decode()).get('BackupJobID')"
   ]
  },
  {
   "cell_type": "code",
   "execution_count": 44,
   "metadata": {},
   "outputs": [],
   "source": [
    "# 等待备份完成, 不会有文档所述 Finished 的状态\n",
    "status = 'NoStart'\n",
    "while status != 'Finished':\n",
    "    request = DescribeBackupTasksRequest()\n",
    "    request.set_accept_format('json')\n",
    "\n",
    "    request.set_InstanceId(ali_instance_id)\n",
    "    request.set_BackupJobId(backup_job_id)\n",
    "\n",
    "    response = ali_redis_client.do_action_with_exception(request)\n",
    "    status = json.loads(response).get('BackupJobs')[0].get('BackupProgressStatus')\n",
    "    sleep(10)"
   ]
  },
  {
   "cell_type": "code",
   "execution_count": 48,
   "metadata": {},
   "outputs": [
    {
     "data": {
      "text/plain": [
       "'hins100059890_data_20210117210243.rdb'"
      ]
     },
     "execution_count": 48,
     "metadata": {},
     "output_type": "execute_result"
    }
   ],
   "source": [
    "# 得到下载地址，排列在前的为最近的备份，假设备份能在 30 分钟内完成，否则调节 startTime\n",
    "request = DescribeBackupsRequest()\n",
    "request.set_accept_format('json')\n",
    "request.set_StartTime((datetime.now() - timedelta(minutes=30)).strftime('%Y-%m-%dT%H:%MZ'))\n",
    "request.set_EndTime(datetime.now().strftime('%Y-%m-%dT%H:%MZ'))\n",
    "request.set_InstanceId(ali_instance_id)\n",
    "\n",
    "response = ali_redis_client.do_action_with_exception(request)\n",
    "backup_download_urls = [i.get('BackupDownloadURL') for i in json.loads(response).get('Backups').get('Backup') if i.get('BackupMode') == 'Manual']\n",
    "while len(backup_download_urls) == 0:\n",
    "    sleep(3)\n",
    "    response = ali_redis_client.do_action_with_exception(request)\n",
    "    backup_download_urls = [i.get('BackupDownloadURL') for i in json.loads(response).get('Backups').get('Backup') if i.get('BackupMode') == 'Manual']\n",
    "backup_download_url = backup_download_urls[0]\n",
    "file_name = backup_download_url.split('/')[-1].split('?')[0]\n",
    "file_name"
   ]
  },
  {
   "cell_type": "code",
   "execution_count": 27,
   "metadata": {},
   "outputs": [
    {
     "data": {
      "text/plain": [
       "690137396"
      ]
     },
     "execution_count": 27,
     "metadata": {},
     "output_type": "execute_result"
    }
   ],
   "source": [
    "# 下载备份文件备上传到 S3\n",
    "response = requests.get(backup_download_url)\n",
    "start = datetime.now()\n",
    "s3.meta.client.put_object(Bucket=bucket.name, Key=file_name, Body=response.content)\n",
    "s3.ObjectSummary(bucket.name, file_name).size"
   ]
  },
  {
   "cell_type": "code",
   "execution_count": 49,
   "metadata": {},
   "outputs": [
    {
     "data": {
      "text/plain": [
       "b'{\"RequestId\":\"96ADDF6D-3098-4505-9F24-D7DF55FE9615\"}'"
      ]
     },
     "execution_count": 49,
     "metadata": {},
     "output_type": "execute_result"
    }
   ],
   "source": [
    "# 备份成功上传后，就可以删除阿里☁️ Redis 实例了，即使是手动备份，实例删除后也不存在，这与 AWS 不同\n",
    "request = DeleteInstanceRequest()\n",
    "request.set_accept_format('json')\n",
    "\n",
    "request.set_InstanceId(ali_instance_id)\n",
    "\n",
    "response = ali_redis_client.do_action_with_exception(request)\n",
    "response"
   ]
  },
  {
   "cell_type": "code",
   "execution_count": 29,
   "metadata": {},
   "outputs": [],
   "source": [
    "# 设置在 S3 中 RDB 文件的 ACL，允许 ElastiCache 服务访问，不适合香港等 2019年3月20日之后上线的区域\n",
    "object_acl = s3.ObjectAcl(bucket.name, file_name)\n",
    "response = object_acl.put(\n",
    "    GrantRead='id=540804c33a284a299d2547575ce1010f2312ef3da9b3a053c8bc45bf233e4353',\n",
    "    GrantReadACP='id=540804c33a284a299d2547575ce1010f2312ef3da9b3a053c8bc45bf233e4353',\n",
    ")"
   ]
  },
  {
   "cell_type": "code",
   "execution_count": 30,
   "metadata": {},
   "outputs": [
    {
     "data": {
      "text/plain": [
       "{'ReplicationGroupId': 'r-6wenexyos9jx5rxd6k',\n",
       " 'Description': 'Migration from Aliyun',\n",
       " 'GlobalReplicationGroupInfo': {},\n",
       " 'Status': 'creating',\n",
       " 'PendingModifiedValues': {},\n",
       " 'MemberClusters': ['r-6wenexyos9jx5rxd6k-001', 'r-6wenexyos9jx5rxd6k-002'],\n",
       " 'AutomaticFailover': 'disabled',\n",
       " 'MultiAZ': 'disabled',\n",
       " 'SnapshotRetentionLimit': 0,\n",
       " 'SnapshotWindow': '16:30-17:30',\n",
       " 'ClusterEnabled': False,\n",
       " 'CacheNodeType': 'cache.r5.large',\n",
       " 'TransitEncryptionEnabled': True,\n",
       " 'AtRestEncryptionEnabled': True,\n",
       " 'ARN': 'arn:aws:elasticache:ap-northeast-1:379972685295:replicationgroup:r-6wenexyos9jx5rxd6k'}"
      ]
     },
     "execution_count": 30,
     "metadata": {},
     "output_type": "execute_result"
    }
   ],
   "source": [
    "# 创建新的 AWS Redis 实例, 需要已经建立的子网组, 安全组, 参数组\n",
    "elasticache = sess.client('elasticache')\n",
    "CLUSTER_NAME = ali_instance_id\n",
    "response = elasticache.create_replication_group(\n",
    "    ReplicationGroupId=CLUSTER_NAME,\n",
    "    ReplicationGroupDescription='Migration from Aliyun',\n",
    "    NumNodeGroups=1,\n",
    "    ReplicasPerNodeGroup=1,\n",
    "    NodeGroupConfiguration=[\n",
    "        {\n",
    "            'NodeGroupId': '0001',\n",
    "        },\n",
    "    ],\n",
    "    CacheNodeType='cache.r5.large',\n",
    "    Engine='redis',\n",
    "    EngineVersion='4.0.10',\n",
    "    CacheParameterGroupName='default.redis4.0',\n",
    "    CacheSubnetGroupName='sg-pri',\n",
    "    SecurityGroupIds=[\n",
    "        'sg-0f3bd26533c0af72d',\n",
    "    ],\n",
    "    SnapshotArns=[\n",
    "        'arn:aws:s3:::'+bucket.name+'/'+file_name,\n",
    "    ],\n",
    "    AuthToken=PASSWORD,\n",
    "    TransitEncryptionEnabled=True,\n",
    "    AtRestEncryptionEnabled=True,\n",
    ")\n",
    "response.get('ReplicationGroup')"
   ]
  },
  {
   "cell_type": "code",
   "execution_count": 31,
   "metadata": {},
   "outputs": [],
   "source": [
    "# 等待创建完成\n",
    "status = 'unknown'\n",
    "while status != 'available':\n",
    "    response = elasticache.describe_replication_groups(\n",
    "        ReplicationGroupId=CLUSTER_NAME,\n",
    "    )\n",
    "    status = response.get('ReplicationGroups')[0].get('Status')\n",
    "    sleep(10)"
   ]
  },
  {
   "cell_type": "code",
   "execution_count": 32,
   "metadata": {},
   "outputs": [
    {
     "data": {
      "text/plain": [
       "(6,\n",
       " [b'trip data/fhv_tripdata_2015-10.csv',\n",
       "  b'trip data/fhv_tripdata_2015-11.csv',\n",
       "  b'trip data/fhv_tripdata_2019-03.csv',\n",
       "  b'trip data/fhv_tripdata_2016-01.csv',\n",
       "  b'trip data/fhv_tripdata_2015-08.csv',\n",
       "  b'trip data/fhv_tripdata_2015-05.csv',\n",
       "  b'trip data/fhv_tripdata_2015-07.csv',\n",
       "  b'trip data/fhv_tripdata_2019-02.csv',\n",
       "  b'trip data/green_tripdata_2013-09.csv',\n",
       "  b'trip data/fhv_tripdata_2015-03.csv',\n",
       "  b'trip data/fhv_tripdata_2016-02.csv'])"
      ]
     },
     "execution_count": 32,
     "metadata": {},
     "output_type": "execute_result"
    }
   ],
   "source": [
    "# 检查实例内容\n",
    "endpoint = response.get('ReplicationGroups')[0].get('NodeGroups')[0].get('PrimaryEndpoint').get('Address')\n",
    "port = response.get('ReplicationGroups')[0].get('NodeGroups')[0].get('PrimaryEndpoint').get('Port')\n",
    "aws_redis = redis.Redis(host=endpoint, port=port, db=0, ssl=True, ssl_ca_certs=certifi.where(), password=PASSWORD)\n",
    "# aws_redis = redis.Redis(host=endpoint, port=port, db=0)\n",
    "aws_redis.scan()"
   ]
  },
  {
   "cell_type": "code",
   "execution_count": 33,
   "metadata": {},
   "outputs": [
    {
     "data": {
      "text/plain": [
       "{'ReplicationGroupId': 'r-6wenexyos9jx5rxd6k',\n",
       " 'Description': 'Migration from Aliyun',\n",
       " 'GlobalReplicationGroupInfo': {},\n",
       " 'Status': 'deleting',\n",
       " 'PendingModifiedValues': {},\n",
       " 'AutomaticFailover': 'disabled',\n",
       " 'MultiAZ': 'disabled',\n",
       " 'SnapshotRetentionLimit': 0,\n",
       " 'SnapshotWindow': '16:30-17:30',\n",
       " 'TransitEncryptionEnabled': True,\n",
       " 'AtRestEncryptionEnabled': True,\n",
       " 'ARN': 'arn:aws:elasticache:ap-northeast-1:379972685295:replicationgroup:r-6wenexyos9jx5rxd6k'}"
      ]
     },
     "execution_count": 33,
     "metadata": {},
     "output_type": "execute_result"
    }
   ],
   "source": [
    "# 删除 AWS Redis 实例\n",
    "response = elasticache.delete_replication_group(\n",
    "    ReplicationGroupId=CLUSTER_NAME,\n",
    ")\n",
    "response.get('ReplicationGroup')"
   ]
  },
  {
   "cell_type": "code",
   "execution_count": 34,
   "metadata": {},
   "outputs": [
    {
     "data": {
      "text/plain": [
       "datetime.timedelta(seconds=620, microseconds=841740)"
      ]
     },
     "execution_count": 34,
     "metadata": {},
     "output_type": "execute_result"
    }
   ],
   "source": [
    "end = datetime.now()\n",
    "time_spent = end - start\n",
    "time_spent"
   ]
  },
  {
   "cell_type": "code",
   "execution_count": null,
   "metadata": {},
   "outputs": [],
   "source": []
  },
  {
   "cell_type": "code",
   "execution_count": null,
   "metadata": {},
   "outputs": [],
   "source": []
  }
 ],
 "metadata": {
  "kernelspec": {
   "display_name": "Environment (conda_anaconda3)",
   "language": "python",
   "name": "conda_anaconda3"
  },
  "language_info": {
   "codemirror_mode": {
    "name": "ipython",
    "version": 3
   },
   "file_extension": ".py",
   "mimetype": "text/x-python",
   "name": "python",
   "nbconvert_exporter": "python",
   "pygments_lexer": "ipython3",
   "version": "3.7.6"
  }
 },
 "nbformat": 4,
 "nbformat_minor": 4
}